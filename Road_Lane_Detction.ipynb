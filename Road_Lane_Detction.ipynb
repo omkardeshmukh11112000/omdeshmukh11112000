{
  "nbformat": 4,
  "nbformat_minor": 0,
  "metadata": {
    "colab": {
      "provenance": [],
      "authorship_tag": "ABX9TyNuHpzBVfuKc+OagU9qPlJs",
      "include_colab_link": true
    },
    "kernelspec": {
      "name": "python3",
      "display_name": "Python 3"
    },
    "language_info": {
      "name": "python"
    }
  },
  "cells": [
    {
      "cell_type": "markdown",
      "metadata": {
        "id": "view-in-github",
        "colab_type": "text"
      },
      "source": [
        "<a href=\"https://colab.research.google.com/github/omkardeshmukh11112000/omdeshmukh11112000/blob/main/Road_Lane_Detction.ipynb\" target=\"_parent\"><img src=\"https://colab.research.google.com/assets/colab-badge.svg\" alt=\"Open In Colab\"/></a>"
      ]
    },
    {
      "cell_type": "code",
      "source": [
        "import tkinter as tk\n",
        "from tkinter import *\n",
        "import cv2\n",
        "from PIL import Image, ImageTk\n",
        "import os\n",
        "import numpy as np"
      ],
      "metadata": {
        "id": "c4mnjCt6axgd"
      },
      "execution_count": 19,
      "outputs": []
    },
    {
      "cell_type": "code",
      "source": [
        "global last_frame1                                    #creating global              variable\n",
        "last_frame1 = np.zeros((480, 640, 3), dtype=np.uint8)\n",
        "global last_frame2                                      #creating global      variable\n",
        "last_frame2 = np.zeros((480, 640, 3), dtype=np.uint8)\n",
        "global cap1\n",
        "global cap2\n",
        "cap1 = cv2.VideoCapture(\"./input2.mp4\")\n",
        "cap2 = cv2.VideoCapture(\"./output2.mp4\")"
      ],
      "metadata": {
        "id": "FAPV4YE8a3q0"
      },
      "execution_count": 20,
      "outputs": []
    },
    {
      "cell_type": "code",
      "source": [
        "def show_vid():                                       \n",
        "    if not cap1.isOpened():                             \n",
        "        print(\"cant open the camera1\")\n",
        "    flag1, frame1 = cap1.read()\n",
        "    frame1 = cv2.resize(frame1,(600,500))\n",
        "    if flag1 is None:\n",
        "        print (\"Major error!\")\n",
        "    elif flag1:\n",
        "        global last_frame1\n",
        "        last_frame1 = frame1.copy()\n",
        "        pic = cv2.cvtColor(last_frame1, cv2.COLOR_BGR2RGB)     \n",
        "        img = Image.fromarray(pic)\n",
        "        imgtk = ImageTk.PhotoImage(image=img)\n",
        "        lmain.imgtk = imgtk\n",
        "        lmain.configure(image=imgtk)\n",
        "        lmain.after(10, show_vid)\n"
      ],
      "metadata": {
        "id": "imfr7fdJa5YZ"
      },
      "execution_count": 21,
      "outputs": []
    },
    {
      "cell_type": "code",
      "source": [
        "def show_vid2():\n",
        "    if not cap2.isOpened():                             \n",
        "        print(\"cant open the camera2\")\n",
        "    flag2, frame2 = cap2.read()\n",
        "    frame2 = cv2.resize(frame2,(600,500))\n",
        "    if flag2 is None:\n",
        "        print (\"Major error2!\")\n",
        "    elif flag2:\n",
        "        global last_frame2\n",
        "        last_frame2 = frame2.copy()\n",
        "        pic2 = cv2.cvtColor(last_frame2, cv2.COLOR_BGR2RGB)\n",
        "        img2 = Image.fromarray(pic2)\n",
        "        img2tk = ImageTk.PhotoImage(image=img2)\n",
        "        lmain2.img2tk = img2tk\n",
        "        lmain2.configure(image=img2tk)\n",
        "        lmain2.after(10, show_vid2)"
      ],
      "metadata": {
        "id": "7DBHv2WPa-fl"
      },
      "execution_count": 22,
      "outputs": []
    },
    {
      "cell_type": "code",
      "source": [
        "if __name__ == '__main__':\n",
        "    root=tk.Tk()   \n",
        "    img = ImageTk.PhotoImage(Image.open(\"logo.png\"))\n",
        "    heading = Label(root,image=img, text=\"Lane-Line Detection\")\n",
        "    # heading.configure(background='#CDCDCD',foreground='#364156')\n",
        "    heading.pack() \n",
        "    heading2=Label(root,text=\"Lane-Line Detection\",pady=20, font=('arial',45,'bold'))                                 \n",
        "    heading2.configure(foreground='#364156')\n",
        "    heading2.pack()\n",
        "    lmain = tk.Label(master=root)\n",
        "    lmain2 = tk.Label(master=root)\n",
        "\n",
        "    lmain.pack(side = LEFT)\n",
        "    lmain2.pack(side = RIGHT)\n",
        "    root.title(\"Lane-line detection\")            \n",
        "    root.geometry(\"1250x900+100+10\") \n",
        "    \n",
        "    exitbutton = Button(root, text='Quit',fg=\"red\",command=   root.destroy).pack(side = BOTTOM,)\n",
        "    show_vid()\n",
        "    show_vid2()\n",
        "    root.mainloop()                                  \n",
        "    cap.release()"
      ],
      "metadata": {
        "id": "h4QaNwVhjvzh"
      },
      "execution_count": null,
      "outputs": []
    }
  ]
}