{
  "nbformat": 4,
  "nbformat_minor": 0,
  "metadata": {
    "colab": {
      "provenance": [],
      "authorship_tag": "ABX9TyPh8BveWwhhak9bGgHOhPXl",
      "include_colab_link": true
    },
    "kernelspec": {
      "name": "python3",
      "display_name": "Python 3"
    },
    "language_info": {
      "name": "python"
    }
  },
  "cells": [
    {
      "cell_type": "markdown",
      "metadata": {
        "id": "view-in-github",
        "colab_type": "text"
      },
      "source": [
        "<a href=\"https://colab.research.google.com/github/omkardeshmukh11112000/omdeshmukh11112000/blob/main/RLD.ipynb\" target=\"_parent\"><img src=\"https://colab.research.google.com/assets/colab-badge.svg\" alt=\"Open In Colab\"/></a>"
      ]
    },
    {
      "cell_type": "code",
      "execution_count": null,
      "metadata": {
        "id": "qV4vzFHOlTHG"
      },
      "outputs": [],
      "source": [
        "import matplotlib.pyplot as plt\n",
        "\n",
        "import numpy as np\n",
        "import cv2\n",
        "import os\n",
        "import matplotlib.image as mpimg\n",
        "from moviepy.editor import VideoFileClip\n",
        "import math"
      ]
    },
    {
      "cell_type": "code",
      "source": [
        "def interested_region(img, vertices):\n",
        "    if len(img.shape) > 2: \n",
        "        mask_color_ignore = (255,) * img.shape[2]\n",
        "    else:\n",
        "        mask_color_ignore = 255\n",
        "        \n",
        "    cv2.fillPoly(np.zeros_like(img), vertices, mask_color_ignore)\n",
        "    return cv2.bitwise_and(img, mask)\n"
      ],
      "metadata": {
        "id": "24gqyRFPlkik"
      },
      "execution_count": 2,
      "outputs": []
    },
    {
      "cell_type": "code",
      "source": [
        "def lines_drawn(img, lines, color=[255, 0, 0], thickness=6):\n",
        "    global cache\n",
        "    global first_frame\n",
        "    slope_l, slope_r = [],[]\n",
        "    lane_l,lane_r = [],[]\n",
        "\n",
        "    α =0.2 "
      ],
      "metadata": {
        "id": "GoUZZaA4lp3E"
      },
      "execution_count": 3,
      "outputs": []
    },
    {
      "cell_type": "code",
      "source": [
        "for line in lines:\n",
        "        for x1,y1,x2,y2 in line:\n",
        "            slope = (y2-y1)/(x2-x1)\n",
        "            if slope > 0.4:\n",
        "                slope_r.append(slope)\n",
        "                lane_r.append(line)\n",
        "            elif slope < -0.4:\n",
        "                slope_l.append(slope)\n",
        "                lane_l.append(line)\n",
        "        #2\n",
        "        img.shape[0] = min(y1,y2,img.shape[0])\n",
        "    "
      ],
      "metadata": {
        "id": "pQbJvX2qlwy3"
      },
      "execution_count": null,
      "outputs": []
    },
    {
      "cell_type": "code",
      "source": [
        " # to prevent errors in challenge video from dividing by zero\n",
        "    if((len(lane_l) == 0) or (len(lane_r) == 0)):\n",
        "        print ('no lane detected')\n",
        "        return 1\n",
        "        \n",
        "    #3\n",
        "    slope_mean_l = np.mean(slope_l,axis =0)\n",
        "    slope_mean_r = np.mean(slope_r,axis =0)\n",
        "    mean_l = np.mean(np.array(lane_l),axis=0)\n",
        "    mean_r = np.mean(np.array(lane_r),axis=0)"
      ],
      "metadata": {
        "id": "spgUwy_El78j"
      },
      "execution_count": null,
      "outputs": []
    },
    {
      "cell_type": "code",
      "source": [
        "if ((slope_mean_r == 0) or (slope_mean_l == 0 )):\n",
        "        print('dividing by zero')\n",
        "        return 1\n",
        "    \n",
        "    x1_l = int((img.shape[0] - mean_l[0][1] - (slope_mean_l * mean_l[0][0]))/slope_mean_l) \n",
        "    x2_l = int((img.shape[0] - mean_l[0][1] - (slope_mean_l * mean_l[0][0]))/slope_mean_l)   \n",
        "    x1_r = int((img.shape[0] - mean_r[0][1] - (slope_mean_r * mean_r[0][0]))/slope_mean_r)\n",
        "    x2_r = int((img.shape[0] - mean_r[0][1] - (slope_mean_r * mean_r[0][0]))/slope_mean_r)\n",
        "    \n",
        "    #6\n",
        "    if x1_l > x1_r:\n",
        "        x1_l = int((x1_l+x1_r)/2)\n",
        "        x1_r = x1_l\n",
        "        y1_l = int((slope_mean_l * x1_l ) + mean_l[0][1] - (slope_mean_l * mean_l[0][0]))\n",
        "        y1_r = int((slope_mean_r * x1_r ) + mean_r[0][1] - (slope_mean_r * mean_r[0][0]))\n",
        "        y2_l = int((slope_mean_l * x2_l ) + mean_l[0][1] - (slope_mean_l * mean_l[0][0]))\n",
        "        y2_r = int((slope_mean_r * x2_r ) + mean_r[0][1] - (slope_mean_r * mean_r[0][0]))\n",
        "    else:\n",
        "        y1_l = img.shape[0]\n",
        "        y2_l = img.shape[0]\n",
        "        y1_r = img.shape[0]\n",
        "        y2_r = img.shape[0]\n",
        "      \n",
        "    present_frame = np.array([x1_l,y1_l,x2_l,y2_l,x1_r,y1_r,x2_r,y2_r],dtype =\"float32\")\n",
        "    \n",
        "    if first_frame == 1:\n",
        "        next_frame = present_frame        \n",
        "        first_frame = 0        \n",
        "    else :\n",
        "        prev_frame = cache\n",
        "        next_frame = (1-α)*prev_frame+α*present_frame\n",
        "             \n",
        "    cv2.line(img, (int(next_frame[0]), int(next_frame[1])), (int(next_frame[2]),int(next_frame[3])), color, thickness)\n",
        "    cv2.line(img, (int(next_frame[4]), int(next_frame[5])), (int(next_frame[6]),int(next_frame[7])), color, thickness)\n",
        "    \n",
        "    cache = next_frame"
      ],
      "metadata": {
        "id": "tauxgj5hmBv-"
      },
      "execution_count": null,
      "outputs": []
    },
    {
      "cell_type": "code",
      "source": [
        "def hough_lines(img, rho, theta, threshold, min_line_len, max_line_gap):\n",
        "    lines = cv2.HoughLinesP(img, rho, theta, threshold, np.array([]), minLineLength=min_line_len, maxLineGap=max_line_gap)\n",
        "    line_img = np.zeros((img.shape[0], img.shape[1], 3), dtype=np.uint8)\n",
        "    lines_drawn(line_img,lines)\n",
        "    return line_img"
      ],
      "metadata": {
        "id": "ayplHvu-mJaw"
      },
      "execution_count": 6,
      "outputs": []
    },
    {
      "cell_type": "code",
      "source": [
        "def weighted_img(img, initial_img, α=0.8, β=1., λ=0.):\n",
        "    return cv2.addWeighted(initial_img, α, img, β, λ)"
      ],
      "metadata": {
        "id": "TNa35FbRmQ94"
      },
      "execution_count": 7,
      "outputs": []
    },
    {
      "cell_type": "code",
      "source": [
        "def process_image(image):\n",
        "\n",
        "\tglobal first_frame\n",
        "\n",
        "\tgray_image = cv2.cvtColor(image, cv2.COLOmean_r[0][1] - (slope_mean_r * mean_r[0][0])GR2GRAY)\n",
        "\timg_hsv = cv2.cvtColor(image, cv2.COLOR_RGB2HSV)\n",
        "\n",
        "\n",
        "\tlower_yellow = np.array([20, 100, 100], dtype = \"uint8\")\n",
        "\tupper_yellow = np.array([30, 255, 255], dtype=\"uint8\")\n",
        "\n",
        "\tmask_yellow = cv2.inRange(img_hsv, lower_yellow, upper_yellow)\n",
        "\tmask_white = cv2.inRange(gray_image, 200, 255)\n",
        "\tmask_yw = cv2.bitwise_or(mask_white, mask_yellow)\n",
        "\tmask_yw_image = cv2.bitwise_and(gray_image, mask_yw)\n",
        "\n",
        "\tgauss_gray= cv2.GaussianBlur(mask_yw_image, (5, 5), 0)\n",
        "\n",
        "\n",
        "\tcanny_edges=cv2.Canny(gauss_gray, 50, 150)\n",
        "\n",
        "\timshape = image.shape\n",
        "\tlower_left = [imshape[1]/9,imshape[0]]\n",
        "\tlower_right = [imshape[1]-imshape[1]/9,imshape[0]]\n",
        "\ttop_left = [imshape[1]/2-imshape[1]/8,imshape[0]/2+imshape[0]/10]\n",
        "\ttop_right = [imshape[1]/2+imshape[1]/8,imshape[0]/2+imshape[0]/10]\n",
        "\tvertices = [np.array([lower_left,top_left,top_right,lower_right],dtype=np.int32)]\n",
        "\troi_image = interested_region(canny_edges, vertices)\n",
        "\n",
        "\ttheta = np.pi/180\n",
        "\n",
        "\tline_image = hough_lines(roi_image, 4, theta, 30, 100, 180)\n",
        "\tresult = weighted_img(line_image, image, α=0.8, β=1., λ=0.)\n",
        "\treturn result\n"
      ],
      "metadata": {
        "id": "ai9VDtjPmSxS"
      },
      "execution_count": null,
      "outputs": []
    }
  ]
}